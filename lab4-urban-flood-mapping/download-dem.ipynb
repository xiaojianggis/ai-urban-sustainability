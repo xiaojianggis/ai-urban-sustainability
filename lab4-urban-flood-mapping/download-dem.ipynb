{
 "cells": [
  {
   "cell_type": "code",
   "execution_count": null,
   "id": "ea796453-51df-4ed3-94f7-dca3f8004265",
   "metadata": {},
   "outputs": [],
   "source": []
  },
  {
   "cell_type": "markdown",
   "id": "ea7b0225-b3d6-4e54-871c-64f28cc63ebc",
   "metadata": {},
   "source": [
    "### Download the DEM automatically from USGS\n",
    "\n",
    "https://apps.nationalmap.gov/downloader/\n",
    "\n",
    "An arc second is equivalent to 1/3600th of 1 degree or equal to 1/1,296,000 of a full circle.\n",
    "\n",
    "- 1-arc-second (~30m)\t`Elevation/1/TIFF/current/`\n",
    "- 1/3-arc-second (~10m)\t`Elevation/13/TIFF/current/`\n",
    "- 1/9-arc-second (~3m)\t`Elevation/19/TIFF/current/`\n",
    "\n",
    "- 1m resolution DEM  `https://prd-tnm.s3.amazonaws.com/StagedProducts/Elevation/1m/TIFF/current/{tile_name}/USGS_1m_{tile_name}.tif`"
   ]
  },
  {
   "cell_type": "code",
   "execution_count": null,
   "id": "15c2ca02-11b7-4c01-a201-60e3979017fe",
   "metadata": {},
   "outputs": [],
   "source": []
  },
  {
   "cell_type": "markdown",
   "id": "5a05ee7b-aabb-483e-93e3-3802661261a6",
   "metadata": {},
   "source": [
    "`n40w076` → Represents the latitude (40°N) and longitude (76°W) of the bottom-left corner. `USGS_1_n40w076.tif` → USGS 1-arcsecond DEM for that region. To get a different tile, change `n40w076` in the URL to the coordinates of your area of interest."
   ]
  },
  {
   "cell_type": "code",
   "execution_count": 6,
   "id": "ba573ad5-3bc1-4dc5-861a-6c8b1ddcb491",
   "metadata": {},
   "outputs": [
    {
     "name": "stdout",
     "output_type": "stream",
     "text": [
      "DEM tile downloaded: n40w076.tif\n"
     ]
    }
   ],
   "source": [
    "import requests\n",
    "\n",
    "tile_name = 'n38w105'\n",
    "tile_name = 'n39w076'\n",
    "tile_name = 'n40w076'\n",
    "\n",
    "# Example download URL for a tile, here the 1 mean 1-arc second DEM, resolution around 30m\n",
    "tile_url = \"https://prd-tnm.s3.amazonaws.com/StagedProducts/Elevation/1/TIFF/current/%s/USGS_1_%s.tif\"%(tile_name, tile_name)\n",
    "\n",
    "# Download the tile\n",
    "response = requests.get(tile_url)\n",
    "\n",
    "with open(\"%s.tif\"%(tile_name), \"wb\") as file:\n",
    "    file.write(response.content)\n",
    "\n",
    "print(\"DEM tile downloaded: %s.tif\"%(tile_name))\n"
   ]
  },
  {
   "cell_type": "code",
   "execution_count": null,
   "id": "500a3220-98f6-4691-bb00-07c0f678d778",
   "metadata": {},
   "outputs": [],
   "source": []
  },
  {
   "cell_type": "markdown",
   "id": "b4eac5b6-ae64-47f0-8a6a-d0d515471735",
   "metadata": {},
   "source": [
    "Here we can create a function that would return the tile name for any specified coordinate"
   ]
  },
  {
   "cell_type": "code",
   "execution_count": 56,
   "id": "84749e5a-77cb-4209-8134-2a17e052dd65",
   "metadata": {},
   "outputs": [
    {
     "name": "stdout",
     "output_type": "stream",
     "text": [
      "DEM Tile Name: n39w075\n"
     ]
    }
   ],
   "source": [
    "def get_tile_name(lat, lon):\n",
    "    \"\"\"\n",
    "    Returns the USGS tile name formatted correctly (e.g., 'n39w076').\n",
    "    \"\"\"\n",
    "    lat_tile = f\"n{int(abs(lat)):02d}\" if lat >= 0 else f\"s{int(abs(lat)):02d}\"\n",
    "    lon_tile = f\"w{int(abs(lon)):03d}\" if lon < 0 else f\"e{int(abs(lon)):03d}\"\n",
    "    return f\"{lat_tile}{lon_tile}\"\n",
    "\n",
    "# Example: Get tile for Philadelphia (39.95°N, 75.16°W)\n",
    "lat, lon = 39.95, -75.16\n",
    "tile_name = get_tile_name(lat, lon)\n",
    "print(\"DEM Tile Name:\", tile_name)"
   ]
  },
  {
   "cell_type": "code",
   "execution_count": null,
   "id": "1fe2bd99-99e0-42df-b9cb-d51a5da5f853",
   "metadata": {},
   "outputs": [],
   "source": []
  },
  {
   "cell_type": "code",
   "execution_count": 53,
   "id": "d6045a52-bf6b-461f-b4af-dad266f85d81",
   "metadata": {},
   "outputs": [
    {
     "name": "stdout",
     "output_type": "stream",
     "text": [
      "DEM tile downloaded: n38w075.tif\n"
     ]
    }
   ],
   "source": [
    "tile_name = 'n40w076'\n",
    "\n",
    "# Example download URL for a tile, here the 1 mean 1-arc second DEM, resolution around 30m\n",
    "tile_url = \"https://prd-tnm.s3.amazonaws.com/StagedProducts/Elevation/1/TIFF/current/%s/USGS_1_%s.tif\"%(tile_name, tile_name)\n",
    "\n",
    "# Download the tile\n",
    "response = requests.get(tile_url)\n",
    "\n",
    "with open(\"%s.tif\"%(tile_name), \"wb\") as file:\n",
    "    file.write(response.content)\n",
    "\n",
    "print(\"DEM tile downloaded: %s.tif\"%(tile_name))"
   ]
  },
  {
   "cell_type": "code",
   "execution_count": 54,
   "id": "9fec0a13-5b90-41c2-943a-8b81b0d5ad82",
   "metadata": {},
   "outputs": [
    {
     "data": {
      "text/plain": [
       "'https://prd-tnm.s3.amazonaws.com/StagedProducts/Elevation/1/TIFF/current/n38w075/USGS_1_n38w075.tif'"
      ]
     },
     "execution_count": 54,
     "metadata": {},
     "output_type": "execute_result"
    }
   ],
   "source": [
    "tile_url"
   ]
  },
  {
   "cell_type": "code",
   "execution_count": null,
   "id": "31dd0ae6-6b1f-4a77-906a-d421823c3772",
   "metadata": {},
   "outputs": [],
   "source": []
  },
  {
   "cell_type": "markdown",
   "id": "8131f336-e0de-42ce-b1f7-4760fd4aac00",
   "metadata": {},
   "source": [
    "Usually, we want to get the all potential tiles in a certain area, here we create a function to return all the tile names in a region"
   ]
  },
  {
   "cell_type": "code",
   "execution_count": 47,
   "id": "b9693023-f44d-433e-b6c2-bb4bef8e703c",
   "metadata": {},
   "outputs": [
    {
     "name": "stdout",
     "output_type": "stream",
     "text": [
      "Tiles to Download: ['n38w076', 'n38w075', 'n38w074', 'n39w076', 'n39w075', 'n39w074', 'n40w076', 'n40w075', 'n40w074', 'n41w076', 'n41w075', 'n41w074']\n"
     ]
    }
   ],
   "source": [
    "def get_tiles_in_bbox(min_lat, max_lat, min_lon, max_lon):\n",
    "    \"\"\"\n",
    "    Returns a list of tile names covering a bounding box.\n",
    "    \"\"\"\n",
    "    tile_list = []\n",
    "    for lat in range(int(min_lat), int(max_lat) + 1):\n",
    "        for lon in range(int(min_lon), int(max_lon) + 1):\n",
    "            tile_list.append(get_tile_name(lat, lon))\n",
    "    return tile_list\n",
    "\n",
    "# Example: Get tiles for an area (Philadelphia to NYC region)\n",
    "tiles = get_tiles_in_bbox(38, 41, -76, -74)\n",
    "print(\"Tiles to Download:\", tiles)"
   ]
  },
  {
   "cell_type": "code",
   "execution_count": null,
   "id": "298d8ab0-7006-4c73-ac8b-ea0282ed4251",
   "metadata": {},
   "outputs": [],
   "source": []
  },
  {
   "cell_type": "markdown",
   "id": "1d16b285-5b2c-4caf-a53d-ca72b561226e",
   "metadata": {},
   "source": [
    "Now we can start to download "
   ]
  },
  {
   "cell_type": "code",
   "execution_count": null,
   "id": "a7c3543d-15ef-4ddc-83f2-7fe2750383b6",
   "metadata": {},
   "outputs": [
    {
     "name": "stdout",
     "output_type": "stream",
     "text": [
      "✅ DEM Tile n38w076 downloaded successfully!\n",
      "❌ Error: Tile n38w075 not found. Check availability.\n",
      "https://prd-tnm.s3.amazonaws.com/StagedProducts/Elevation/1/TIFF/current/n38w075/USGS_1_n38w075.tif\n",
      "❌ Error: Tile n38w074 not found. Check availability.\n",
      "https://prd-tnm.s3.amazonaws.com/StagedProducts/Elevation/1/TIFF/current/n38w074/USGS_1_n38w074.tif\n",
      "✅ DEM Tile n39w076 downloaded successfully!\n",
      "✅ DEM Tile n39w075 downloaded successfully!\n",
      "❌ Error: Tile n39w074 not found. Check availability.\n",
      "https://prd-tnm.s3.amazonaws.com/StagedProducts/Elevation/1/TIFF/current/n39w074/USGS_1_n39w074.tif\n",
      "✅ DEM Tile n40w076 downloaded successfully!\n",
      "✅ DEM Tile n40w075 downloaded successfully!\n",
      "❌ Error: Tile n40w074 not found. Check availability.\n",
      "https://prd-tnm.s3.amazonaws.com/StagedProducts/Elevation/1/TIFF/current/n40w074/USGS_1_n40w074.tif\n",
      "✅ DEM Tile n41w076 downloaded successfully!\n",
      "✅ DEM Tile n41w075 downloaded successfully!\n",
      "✅ DEM Tile n41w074 downloaded successfully!\n"
     ]
    }
   ],
   "source": [
    "import requests\n",
    "import os\n",
    "\n",
    "def download_dem_1arc(tile_name, save_path=\".\"):\n",
    "    \"\"\"\n",
    "    Downloads a 1-arc-second (~30m) DEM tile from USGS TNM.\n",
    "    \n",
    "    Parameters:\n",
    "        tile_name (str): Tile name (e.g., \"n39w076\").\n",
    "        save_path (str): Directory to save the DEM file.\n",
    "    \"\"\"\n",
    "    base_url = \"https://prd-tnm.s3.amazonaws.com/StagedProducts/Elevation/1/TIFF/current\"\n",
    "    url = f\"{base_url}/{tile_name}/USGS_1_{tile_name}.tif\"\n",
    "    \n",
    "    output_file = os.path.join(save_path, f\"{tile_name}.tif\")\n",
    "    \n",
    "    response = requests.get(url, stream=True)\n",
    "    if response.status_code == 200:\n",
    "        with open(output_file, \"wb\") as file:\n",
    "            for chunk in response.iter_content(1024):\n",
    "                file.write(chunk)\n",
    "        print(f\"✅ DEM Tile {tile_name} downloaded successfully!\")\n",
    "    else:\n",
    "        print(f\"❌ Error: Tile {tile_name} not found. Check availability.\")\n",
    "        print(url)\n",
    "# Download multiple tiles\n",
    "save_directory = \"DEM_Tiles\"\n",
    "os.makedirs(save_directory, exist_ok=True)  # Create folder if it doesn't exist\n",
    "\n",
    "for tile in tiles:\n",
    "    download_dem_1arc(tile, save_directory)"
   ]
  },
  {
   "cell_type": "code",
   "execution_count": null,
   "id": "88516b1f",
   "metadata": {},
   "outputs": [],
   "source": []
  },
  {
   "cell_type": "markdown",
   "id": "b1fd70c5-5cc3-46ff-9609-b1c81dee1f5e",
   "metadata": {},
   "source": [
    "You may find some tiles are missing, this is because those tiles cover the ocean, and are not available in the USGS database."
   ]
  },
  {
   "cell_type": "code",
   "execution_count": null,
   "id": "7d6e36ea-b189-4ffb-b9a6-360a2db834a0",
   "metadata": {},
   "outputs": [],
   "source": []
  }
 ],
 "metadata": {
  "kernelspec": {
   "display_name": "Python 3 (ipykernel)",
   "language": "python",
   "name": "python3"
  },
  "language_info": {
   "codemirror_mode": {
    "name": "ipython",
    "version": 3
   },
   "file_extension": ".py",
   "mimetype": "text/x-python",
   "name": "python",
   "nbconvert_exporter": "python",
   "pygments_lexer": "ipython3",
   "version": "3.10.16"
  }
 },
 "nbformat": 4,
 "nbformat_minor": 5
}
